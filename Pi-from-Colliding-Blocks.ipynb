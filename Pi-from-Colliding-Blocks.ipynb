{
 "cells": [
  {
   "cell_type": "markdown",
   "metadata": {},
   "source": [
    "# Digits of $\\pi$ from colliding blocks\n",
    "\n",
    "On Jan 13, 2019, the YouTube channel [*3Blue1Brown*](https://www.youtube.com/channel/UCYO_jab_esuFRV4b17AJtAw/videos) published an interesting video titled *[The most unexpected answer to a counting puzzle](https://www.youtube.com/watch?v=HEfHFsfGXjs)*, in which a very simple problem is described: a block of mass $M$ moves at a constant speed $V$ on a frictionless surface towards a vertical wall; closer to the wall there is another block of mass $m$ at rest. After the collision, the small block will hit the wall and be reflected back so that the blocks will collide again. The *unexpected result* is the following: if the ratio between the block masses is a power of 100 then the total number of clacks* $N_\\text{clacks}$ (collisions plus reflections) is equal to certain number of digits of $\\pi$. More precisely, if the masses satisfy the relation $M/m = 100^{d-1}$, then the number of clacks is equal to the first $d$ digits of $\\pi$.\n",
    "\n",
    "\\*: **clack** *the short loud sound made when two hard objects hit each other*"
   ]
  },
  {
   "cell_type": "code",
   "execution_count": 1,
   "metadata": {},
   "outputs": [
    {
     "data": {
      "text/html": [
       "<iframe width=\"560\" height=\"315\" src=\"https://www.youtube.com/embed/HEfHFsfGXjs\"         frameborder=\"0\" allow=\"accelerometer; autoplay; encrypted-media; gyroscope; picture        -in-picture\" allowfullscreen></iframe>"
      ],
      "text/plain": [
       "<IPython.core.display.HTML object>"
      ]
     },
     "execution_count": 1,
     "metadata": {},
     "output_type": "execute_result"
    }
   ],
   "source": [
    "from IPython.display import HTML\n",
    "video = '<iframe width=\"560\" height=\"315\" src=\"https://www.youtube.com/embed/HEfHFsfGXjs\" \\\n",
    "        frameborder=\"0\" allow=\"accelerometer; autoplay; encrypted-media; gyroscope; picture\\\n",
    "        -in-picture\" allowfullscreen></iframe>'\n",
    "HTML(video)"
   ]
  },
  {
   "cell_type": "markdown",
   "metadata": {},
   "source": [
    "Completely mindblown, I decided to verify this probably useless but fascinating result, and maybe try to derive an analytical understanding of the how and why this *unexpected* result. The video gives credit to [Gregory Galperin](http://www.ux1.eiu.edu/~cfgg/), who discovered this result in the 1990s and published it in 2003 under the title ***Playing pool with π (the number π from a billiard point of view)***, Regular and Chaotic Dynamics, pp. 375--394, 2003 [[PDF](https://www.maths.tcd.ie/~lebed/Galperin.%20Playing%20pool%20with%20pi.pdf)]. Nonetheless, I have resisted the temptation to see Galperin's work and try my own version.\n",
    "\n",
    "In order to simplify the way to address the problem I have broken it down into three parts:\n",
    " 1. Use simple mechanics to study the general motion of the two blocks\n",
    " 2. Use the results from part 1 to confirm that the number of clacks is equal to the first $d$ digits of $\\pi$ when the masses satisfy the relation $M/m = 100^{d-1}$\n",
    " 3. Try to understand the connection between the problem and $\\pi$"
   ]
  },
  {
   "cell_type": "markdown",
   "metadata": {},
   "source": [
    "# 1. Dynamics of the collision-reflection process\n",
    "\n",
    "**Definitions:** for a clear treatment of each variable, the clack produced by one block hitting the other will be called ***collision***, whereas the clack produced a block hitting the wall will be called ***reflection***. We are interested on the total number of clacks given by \n",
    "\n",
    "\\begin{equation} N_\\text{clacks} = N_\\text{collisions} + N_\\text{reflections} \\end{equation}\n",
    "\n",
    "**Boundary conditions:** the initial state of the system is the large block (of mass $M$) moving with some constant speed $V_0$ before colliding with the small block (of mass $m$) initially at rest. The final state of the system is both block moving independently away from the wall. \n",
    "the large block moving with some constant speed $V_k$ before colliding with the small block (of mass $m$) initially at rest."
   ]
  },
  {
   "cell_type": "code",
   "execution_count": null,
   "metadata": {},
   "outputs": [],
   "source": []
  },
  {
   "cell_type": "code",
   "execution_count": null,
   "metadata": {},
   "outputs": [],
   "source": []
  },
  {
   "cell_type": "code",
   "execution_count": null,
   "metadata": {},
   "outputs": [],
   "source": []
  },
  {
   "cell_type": "code",
   "execution_count": null,
   "metadata": {},
   "outputs": [],
   "source": []
  },
  {
   "cell_type": "code",
   "execution_count": null,
   "metadata": {},
   "outputs": [],
   "source": []
  },
  {
   "cell_type": "code",
   "execution_count": 2,
   "metadata": {},
   "outputs": [],
   "source": [
    "import numpy as np\n",
    "import matplotlib.pyplot as plt\n",
    "%matplotlib inline\n",
    "import seaborn as sns\n",
    "sns.set(rc={'figure.facecolor':'white'})\n",
    "plt.rc('text', usetex=True)\n",
    "plt.rc('font', family='serif')"
   ]
  },
  {
   "cell_type": "code",
   "execution_count": null,
   "metadata": {},
   "outputs": [],
   "source": []
  },
  {
   "cell_type": "code",
   "execution_count": null,
   "metadata": {},
   "outputs": [],
   "source": []
  },
  {
   "cell_type": "code",
   "execution_count": null,
   "metadata": {},
   "outputs": [],
   "source": []
  },
  {
   "cell_type": "code",
   "execution_count": null,
   "metadata": {},
   "outputs": [],
   "source": []
  },
  {
   "cell_type": "code",
   "execution_count": null,
   "metadata": {},
   "outputs": [],
   "source": []
  },
  {
   "cell_type": "code",
   "execution_count": null,
   "metadata": {},
   "outputs": [],
   "source": []
  },
  {
   "cell_type": "code",
   "execution_count": null,
   "metadata": {},
   "outputs": [],
   "source": []
  },
  {
   "cell_type": "code",
   "execution_count": null,
   "metadata": {},
   "outputs": [],
   "source": []
  },
  {
   "cell_type": "code",
   "execution_count": 3,
   "metadata": {},
   "outputs": [
    {
     "name": "stdout",
     "output_type": "stream",
     "text": [
      "k_max   : 995\n",
      "[break] Cond1 satisfied\n",
      "k       : 16\n",
      "# clicks: 31\n"
     ]
    }
   ],
   "source": [
    "V0, v0 = 1, 0\n",
    "V = [V0]\n",
    "v = [v0]\n",
    "\n",
    "lambda_ = 100**(1)\n",
    "cnt = 0\n",
    "k_max = int(10*(lambda_-1)+5)\n",
    "print('k_max   :', k_max)\n",
    "for k in range(1, k_max):\n",
    "#     print(k)\n",
    "    V_k = (lambda_-1)/(lambda_+1) * V[k-1] - (2)/(lambda_+1) * v[k-1]\n",
    "    v_k = (2*lambda_)/(lambda_+1) * V[k-1] + (lambda_-1)/(lambda_+1) * v[k-1]\n",
    "    V.append(V_k)\n",
    "    v.append(v_k)\n",
    "    cond1 = V_k < v_k and v_k <= 0  # both move backwards, big block moves faster\n",
    "    cond2 = V_k < 0 and -V_k > v_k > 0  # big block moves backwards, small block will be reflected one more time\n",
    "#     print('k =', k)\n",
    "    if cond2:\n",
    "        cnt = 2*k\n",
    "        print('[break] Cond2 satisfied')\n",
    "        break\n",
    "    elif cond1:\n",
    "        cnt = 2*k-1\n",
    "        print('[break] Cond1 satisfied')\n",
    "        break\n",
    "print('k       :', k)\n",
    "print('# clicks:', cnt)"
   ]
  },
  {
   "cell_type": "code",
   "execution_count": 85,
   "metadata": {},
   "outputs": [
    {
     "name": "stdout",
     "output_type": "stream",
     "text": [
      "k  \t V     v\n",
      "--------------------\n",
      "0  \t1.00  0.00\n",
      "1  \t0.98  1.98\n",
      "2  \t0.92  3.88\n",
      "  \t...    ...\n",
      "13  \t-0.85  5.23\n",
      "14  \t-0.94  3.44\n",
      "15  \t-0.99  1.51\n",
      "16  \t-1.00  -0.48\n"
     ]
    }
   ],
   "source": [
    "print('k  \\t V     v')\n",
    "print('-'*20)\n",
    "for k, (Vk, vk) in enumerate(zip(V, v)):\n",
    "    if (k<3 or k> len(V)-5):\n",
    "        print('{}  \\t{:.2f}  {:.2f}'.format(k, Vk, vk))\n",
    "    elif k == 3:\n",
    "        print('  \\t...    ...')"
   ]
  },
  {
   "cell_type": "code",
   "execution_count": 86,
   "metadata": {},
   "outputs": [
    {
     "data": {
      "image/png": "[encoded data removed]",
      "text/plain": [
       "<matplotlib.figure.Figure at 0x1b8bfe3e860>"
      ]
     },
     "metadata": {},
     "output_type": "display_data"
    }
   ],
   "source": [
    "x = np.arange(0, len(V), 1)\n",
    "zero = [0 for _ in range(len(V))]\n",
    "fig, ax1 = plt.subplots()\n",
    "ax1.plot(x, zero, 'k-', linewidth=0.6)\n",
    "# ax1.text(0.35, 0.5, 'Close Me!', dict(size=30))\n",
    "ax1.set_title('Velocity of each block ($\\lambda={}$)'.format(lambda_), fontsize=16)\n",
    "\n",
    "colorV = 'g'\n",
    "colorv = 'b'\n",
    "\n",
    "ax2 = ax1.twinx()\n",
    "ax1.plot(x, V, '-', color=colorV)\n",
    "ax2.plot(x, v, '-', color=colorv)\n",
    "\n",
    "# ax1.set_xlabel('X data')\n",
    "# ax1.set_ylabel('Y1 data', color='g')\n",
    "# ax2.set_ylabel('Y2 data', color='b')\n",
    "ax1.grid(False)\n",
    "ax2.grid(False)\n",
    "\n",
    "ax1.set_xlabel(r'$k$ (number of collisions)', fontsize=16)\n",
    "ax1.set_ylabel('velocity large block', fontsize=16, color=colorV)\n",
    "ax2.set_ylabel('velocity small block', fontsize=16, color=colorv);\n",
    "# plt.xticks(np.arange(min(x), max(x)+1, 3))\n",
    "# plt.axis([0, 23, -4, 4.9])\n",
    "# ax1.legend(fontsize=20)\n",
    "Vmax = 1.5\n",
    "vmax = 12\n",
    "xmax = 30#max(x)+1\n",
    "ax1.set_xlim(0, xmax)\n",
    "ax1.set_ylim(-Vmax, Vmax)\n",
    "ax2.set_ylim(-vmax, vmax);"
   ]
  },
  {
   "cell_type": "code",
   "execution_count": null,
   "metadata": {},
   "outputs": [],
   "source": []
  },
  {
   "cell_type": "code",
   "execution_count": null,
   "metadata": {},
   "outputs": [],
   "source": []
  },
  {
   "cell_type": "code",
   "execution_count": 4,
   "metadata": {},
   "outputs": [],
   "source": [
    "def clack_count(lambda_=1):\n",
    "    # lambda_: M/m mass ratio\n",
    "    V0, v0 = 1, 0\n",
    "    V = [V0]\n",
    "    v = [v0]\n",
    "\n",
    "#     lambda_ = 100**(d-1)\n",
    "    cnt = 0\n",
    "    k_max = int(10*(lambda_-1)+5)\n",
    "    for k in range(1, k_max):\n",
    "        V_k = (lambda_-1)/(lambda_+1) * V[k-1] - (2)/(lambda_+1) * v[k-1]\n",
    "        v_k = (2*lambda_)/(lambda_+1) * V[k-1] + (lambda_-1)/(lambda_+1) * v[k-1]\n",
    "        V.append(V_k)\n",
    "        v.append(v_k)\n",
    "        cond_i  = V_k < v_k and v_k <= 0  # both move backwards, big block moves faster\n",
    "        cond_ii = V_k < 0 and -V_k > v_k > 0  # big block moves backwards, small block will be reflected one more time\n",
    "        \n",
    "        if cond_i:\n",
    "            cnt = 2*k-1\n",
    "#             print('[break] cond_i satisfied')\n",
    "            break\n",
    "        elif cond_ii:\n",
    "            cnt = 2*k\n",
    "#             print('[break] cond_ii satisfied')\n",
    "            break\n",
    "#     print('k       :', k)\n",
    "#     print('# clicks:', cnt)\n",
    "    return cnt"
   ]
  },
  {
   "cell_type": "code",
   "execution_count": 6,
   "metadata": {},
   "outputs": [
    {
     "data": {
      "text/plain": [
       "10"
      ]
     },
     "execution_count": 6,
     "metadata": {},
     "output_type": "execute_result"
    }
   ],
   "source": [
    "clack_count(10)"
   ]
  },
  {
   "cell_type": "code",
   "execution_count": null,
   "metadata": {},
   "outputs": [],
   "source": []
  },
  {
   "cell_type": "code",
   "execution_count": 13,
   "metadata": {},
   "outputs": [
    {
     "name": "stdout",
     "output_type": "stream",
     "text": [
      "clack_count(d=1): 3\n",
      "clack_count(d=2): 31\n",
      "clack_count(d=3): 314\n",
      "clack_count(d=4): 3141\n",
      "clack_count(d=5): 31415\n",
      "clack_count(d=6): 314159\n"
     ]
    }
   ],
   "source": [
    "for d in range(1, 7):\n",
    "    lambda_ = 100**(d-1)\n",
    "    num_clacks = clack_count(lambda_=lambda_)\n",
    "#     print('clack_count(d={}): {}'.format(d, clack_count(lambda_=lambda_)))\n",
    "    print(f'clack_count(d={d}): {num_clacks}')"
   ]
  },
  {
   "cell_type": "code",
   "execution_count": null,
   "metadata": {},
   "outputs": [],
   "source": []
  },
  {
   "cell_type": "code",
   "execution_count": null,
   "metadata": {},
   "outputs": [],
   "source": []
  },
  {
   "cell_type": "code",
   "execution_count": null,
   "metadata": {},
   "outputs": [],
   "source": []
  }
 ],
 "metadata": {
  "kernelspec": {
   "display_name": "Python 3",
   "language": "python",
   "name": "python3"
  },
  "language_info": {
   "codemirror_mode": {
    "name": "ipython",
    "version": 3
   },
   "file_extension": ".py",
   "mimetype": "text/x-python",
   "name": "python",
   "nbconvert_exporter": "python",
   "pygments_lexer": "ipython3",
   "version": "3.6.1"
  }
 },
 "nbformat": 4,
 "nbformat_minor": 2
}
