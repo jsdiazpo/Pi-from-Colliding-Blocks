{
 "cells": [
  {
   "cell_type": "markdown",
   "metadata": {},
   "source": [
    "# Digits of π from colliding blocks\n",
    "[Jorge S. Diaz](https://github.com/jsdiazpo) (20 Jan. 2019)\n",
    "\n",
    "## 1. Introduction\n",
    "\n",
    "On Jan 13, 2019, the YouTube channel [*3Blue1Brown*](https://www.youtube.com/channel/UCYO_jab_esuFRV4b17AJtAw/videos) published an interesting video titled *[The most unexpected answer to a counting puzzle](https://www.youtube.com/watch?v=HEfHFsfGXjs)* [1], in which a very simple problem is described: a block of mass $M$ moves at a constant speed $V$ on a frictionless surface towards a vertical wall; closer to the wall there is another block of mass $m$ at rest. After the elastic collision, the small block will hit the wall and be elastically reflected back so that the blocks will collide again. The *unexpected result* is the following: \n",
    "\n",
    "**Claim:** if the ratio between the block masses is a power of 100 then the total number of clacks* $N_\\text{clacks}$ (collisions plus reflections) is equal to certain number of digits of $\\pi$. More precisely, if the masses satisfy the relation $M/m = 100^{d-1}$, then the number of clacks is equal to the first $d$ digits of $\\pi$.\n",
    "\n",
    "\\*: **clack** *the short loud sound made when two hard objects hit each other* [2]."
   ]
  },
  {
   "cell_type": "code",
   "execution_count": 1,
   "metadata": {},
   "outputs": [
    {
     "data": {
      "text/html": [
       "<iframe width=\"560\" height=\"315\" src=\"https://www.youtube.com/embed/HEfHFsfGXjs\"         frameborder=\"0\" allow=\"accelerometer; autoplay; encrypted-media; gyroscope; picture        -in-picture\" allowfullscreen></iframe>"
      ],
      "text/plain": [
       "<IPython.core.display.HTML object>"
      ]
     },
     "execution_count": 1,
     "metadata": {},
     "output_type": "execute_result"
    }
   ],
   "source": [
    "from IPython.display import HTML\n",
    "video = '<iframe width=\"560\" height=\"315\" src=\"https://www.youtube.com/embed/HEfHFsfGXjs\" \\\n",
    "        frameborder=\"0\" allow=\"accelerometer; autoplay; encrypted-media; gyroscope; picture\\\n",
    "        -in-picture\" allowfullscreen></iframe>'\n",
    "HTML(video)"
   ]
  },
  {
   "cell_type": "markdown",
   "metadata": {},
   "source": [
    "Completely mindblown, I decided to verify this probably useless but fascinating result, and maybe try to derive an analytical understanding about the how and why this *unexpected* result. The video gives credit to [Gregory Galperin](http://www.ux1.eiu.edu/~cfgg/), who discovered this result in the 1990s and published it in 2003 under the title ***Playing pool with $\\pi$ (the number $\\pi$ from a billiard point of view)*** [3]. Nonetheless, I have resisted the temptation to see Galperin's work before trying my own version, which is presented in the following sections."
   ]
  },
  {
   "cell_type": "markdown",
   "metadata": {},
   "source": [
    "## 2. Dynamics of the collision-reflection process\n",
    "\n",
    "### 2.1 Definitions and conditions\n",
    "\n",
    "**Definitions:** \n",
    "- the clack produced by one block hitting the other will be called ***collision***\n",
    "- the clack produced by a block hitting the wall will be called ***reflection*** \n",
    "- both collisions and reflections are ellastic; thefore, energy and momentum are conserved in these processes\n",
    "\n",
    "We are interested on the total number of clacks given by \n",
    "\n",
    "\\begin{equation} \n",
    "N_\\text{clacks} = N_\\text{collisions} + N_\\text{reflections} \\tag*{(1)}\n",
    "\\end{equation}\n",
    "\n",
    "**Boundary conditions:** \n",
    "- start: the initial state of the system is the large block (of mass $M$) moving with some constant speed $V_0$ before colliding with the small block (of mass $m$) initially at rest. \n",
    "- end: in the final state of the system the two blocks move independently away from the wall, with the large block moving faster than the small block, which guarantees no further collisions.\n",
    "\n",
    "The direction of motion in the initial state is defined to be positive. The final state is key for solving the problem as it determines the total number of clacks. In particular, the final state sets the boundary between the mathematical solution and the physical solution of interest, as shown in Sec. 4.2. \n",
    "\n",
    "**Reflections:** before hitting the wall, the small block moves with positive velocity, which is fully reversed after the collision. This can be proven in general by writting the conservation of total energy and momentum:\n",
    "\n",
    "\\begin{eqnarray}\n",
    "\\frac12 mv^2_\\text{before} &=& \\frac12 mv^2_\\text{after}, \\tag*{(2)}\\\\\n",
    "mv_\\text{before} &=& mv_\\text{after}; \\tag*{(3)}\\\\\n",
    "\\end{eqnarray}\n",
    "\n",
    "where contributions from the large block are ignored as its does participate in the reflection process.\n",
    "This system of equations has two solutions: $v_\\text{after} = v_\\text{before}$ and $v_\\text{after} = -v_\\text{before}$. The first solution indicates that the block moves across the wall, so although mathematically valid this is a unphysical solution. The second solution shows that the block bounces against the wall and after the reflection will move with the same speed in the opposite direction. This shows that the role played by the wall in the dynamics of the problem is by reversing the sign of the small block's velocity before the next collision."
   ]
  },
  {
   "cell_type": "markdown",
   "metadata": {},
   "source": [
    "**Collisions:** the most interesting part of the process occurs when the blocks collide with one another, as one will transfer momentum to the other with each collision. For describing the process in general, we will consider the $k$-th collision between the blocks having velocities $V_k$ and $-v_k$ to determine their velocities $V_{k+1}$ and $v_{k+1}$ after the collision. Conservation of energy and momentum lead to:\n",
    "\n",
    "\\begin{align*}\n",
    "\\frac12 MV^2_k + \\frac12 mv^2_k  &= \\frac12 MV^2_{k+1} + \\frac12 mv^2_{k+1}, \\tag*{(4)}\\\\\n",
    "MV_k - mv_k &= MV_{k+1} + mv_{k+1}. \\tag*{(5)}\\\\\n",
    "\\end{align*}\n",
    "\n",
    "The negative sign in front of $v_k$ indicates the direction of motion of this block is reversed between collisions, this is the action of the wall as proven above.\n",
    "This sign guarantees that all the information of the problem, including the reflection in the wall, is contained in the system of equations. \n",
    "The only exception is for the first collision (as there is no reflection before the first collision); however, $v_0=0$ so the sign will not affect the result and the equations are still valid.\n",
    "Defining the ratio between the block masses\n",
    "\n",
    "\\begin{align*}\n",
    "\\lambda = \\frac{M}{m} \\tag*{(6)}\n",
    "\\end{align*}\n",
    "\n",
    "and simplifying redundant terms, the system of equations can be written as\n",
    "\n",
    "\\begin{align*}\n",
    "\\text{conservation of energy  :} \\qquad & \\lambda V^2_k + v^2_k = \\lambda V^2_{k+1} + v^2_{k+1},\n",
    "\\tag*{(7)} \\\\\n",
    "\\text{conservation of momentum:} \\qquad & \\, \\lambda V_k - v_k = \\lambda V_{k+1} + v_{k+1}.\n",
    "\\tag*{(8)}\n",
    "\\end{align*}\n",
    "\n",
    "Solving the second equation for $v_{k+1}$ and replacing in the first equation we get\n",
    "\n",
    "\\begin{eqnarray}\n",
    "v^2_k + \\lambda V^2_k &=& \\big(\\lambda V_k - v_k - \\lambda V_{k+1}\\big)^2 + \\lambda V^2_{k+1} ,\n",
    "\\end{eqnarray}\n",
    "\n",
    "which can be rearranged as a quadratic equation for $V_{k+1}$\n",
    "\n",
    "\\begin{align}\n",
    "0 &= (\\lambda+1) V_{k+1}^2 - 2 \\big(\\lambda V_k - v_k \\big)V_{k+1} + (\\lambda-1) V_{k}^2 - 2 V_{k}v_{k},\n",
    "\\tag*{(9)}\n",
    "\\end{align}\n",
    "\n",
    "where $\\lambda>0$ has been used.\n",
    "This can be easily solved after some algebraic manipulations\n",
    "\n",
    "\\begin{align}\n",
    "V_{k+1} &= \\frac{1}{\\lambda+1}\\big( (\\lambda V_k - v_k) \\pm (V_k + v_k) \\big) \\tag*{(10)}.\n",
    "\\end{align}\n",
    "\n",
    "In order to choose one of the two solutions we can consider what happens for the first collision ($k=0$), in which the small block is at rest:\n",
    "\n",
    "\\begin{align}\n",
    "V_{1} &= \\frac{1}{\\lambda+1}\\big( (\\lambda V_0 - v_0) \\pm (V_k + v_0) \\big)\n",
    "= \\left\\{\\begin{array}{cc} V_0 & \\text{(+)}\\\\ 0 & (-) \\end{array}\\right. \\tag*{(11)}.\n",
    "\\end{align}\n",
    "\n",
    "The solution using the positive root ($+$) shows that after the first collision the large block continues unaltered, going through the small block. For this reason we conclude that this solution is unphysical and that the negative root ($-$) is the physical solution to be used.\n",
    "Then, the solution can be replaced into eq. (8) to find the velocity of the blocks after the $k$-th collistion\n",
    "\n",
    "\\begin{align}\n",
    "V_{k+1} &= \\left(\\frac{\\lambda-1}{\\lambda+1}\\right) V_k - \\left(\\frac{2}{\\lambda+1}\\right) v_k \\tag*{(12)}, \\\\\n",
    "v_{k+1} &= \\left(\\frac{2\\lambda}{\\lambda+1}\\right) V_k + \\left(\\frac{\\lambda-1}{\\lambda+1}\\right) v_k. \\tag*{(13)}\n",
    "\\end{align}\n",
    "\n",
    "This system recursively describes how the velocity of each block changes after each collision as a function of the mass ratio $\\lambda$ and the initial velocity $V_0$."
   ]
  },
  {
   "cell_type": "markdown",
   "metadata": {},
   "source": [
    "### 2.2 Example: block of equal mass $(\\lambda=1)$\n",
    "\n",
    "A simple check of the equations obtained above can be performed for the case when the two blocks have the same mass: $M=m$. In this case equations (12) and (13) reduce to\n",
    "\n",
    "\\begin{align}\n",
    "V_{k+1} &= -v_k ,\\tag*{(14)} \\\\\n",
    "v_{k+1} &= \\;\\;V_k .\\tag*{(15)}\n",
    "\\end{align}\n",
    "\n",
    "This result indicates that after a collision the momentum of a block is fully transferred to the other. \n",
    "We can now follow the evolution of the system by evaluating for succesive values of $k$.\n",
    "\n",
    "- $k=1$: before the first collision the large block moves with positive velocity $V_0$ towards the second block at rest $v_0=0$; after the collision the large block has transferred all its momentum and remains at rest $V_1=0$, whereas the small block moves with velocity $v_1=V_0$ towards the wall\n",
    "\n",
    "- $k=2$: after hitting the wall, the small block moves with negative velocity $-V_0$ towards the large block at rest $V_1=0$; after this second collision the small block transfers all its momentum and remains at rest $v_2=0$, whereas the large block moves with negative velocity $V_2=-V_0$. \n",
    "\n",
    "Mathematically, values for $k>2$ are perfectly valid; nevertheless, physically the process ends after the second collision because the blocks never collide again. \n",
    "\n",
    "### 2.3 The end of the process\n",
    "\n",
    "One of the key features of this problem is the identification of the necessary conditions for the process to end.\n",
    "We introduce here the notation $k_\\text{last}$ to denote the value of $k$ after which the process ends.\n",
    "In the previous example $k_\\text{last}=2$; in which case we could count $N_\\text{collisions} = 2$ collisions and $N_\\text{reflections} = 1$ reflections for a total of $N_\\text{clacks} = N_\\text{collisions} + N_\\text{reflections} = 3$ clacks.\n",
    "In this example we notice that $N_\\text{collisions} = k_\\text{last}$ (by definition) and $N_\\text{reflections} = k_\\text{last} -  1$, from where we can write the total number of clacks to be $N_\\text{clacks}=2k_\\text{last} -  1$; however, this relationship is only valid if $v_{k_\\text{last}}\\ge0$. \n",
    "When $v_{k_\\text{last}}<0$ the small block moves towards the wall so it will eventually hit it one more time. \n",
    "In this case we will find $N_\\text{collisions} = N_\\text{reflections} = k_\\text{last}$.\n",
    "This occurs for example for $\\lambda=10^4$ and nicely shown in the *3Blue1Brown* video at [t=1m45s](https://www.youtube.com/watch?v=HEfHFsfGXjs&feature=youtu.be&t=105).\n",
    "\n",
    "We can now explicitly write the two possible conditions that will make the process end:\n",
    "\n",
    "- condition *i*: if after a collision we find $V_{k+1} < v_{k+1} \\le 0$, then neither of the blocks is moving towards the wall and the large block moves away faster so the small block can never reach it. The total number of clacks is given by $N_\\text{clacks} = 2k_\\text{last} - 1$.\n",
    "\n",
    "- condition *ii*: if after a collision we find $0 < v_{k+1} \\le -V_{k+1}$, then the large block moves away from the wall faster than the small block moves towards the wall. One more reflection will occur; however, since $|V_{k+1}| > |v_{k+1}|$ the small block can never reach the large one. The total number of clacks is given by $N_\\text{clacks} = 2k_\\text{last}$.\n",
    "\n",
    "In summary:\n",
    "\n",
    "\\begin{align}\n",
    "N_\\text{clacks} = \\left\\{\\begin{array}{lll} \n",
    "2k_\\text{last} - 1 & \\text{if}\\; V_{k+1} < v_{k+1} \\le 0 & \\text{(cond. $i$)}\\\\\n",
    "2k_\\text{last} & \\text{if}\\; 0 < v_{k+1} \\le -V_{k+1} & \\text{(cond. $ii$)}\n",
    "\\end{array}\\right. \\tag*{(16)}\n",
    "\\end{align}\n",
    "\n",
    "In both cases the process ends with $k_\\text{last}=k+1$. \n",
    "These conditions will turn out to be critical in the simulation presented in Sec. 2 as well as the (for now) misterious relation between the total number of clacks $N_\\text{clacks}$ and certain number of digits of $\\pi$, which is discussed in Sec. 3."
   ]
  },
  {
   "cell_type": "markdown",
   "metadata": {},
   "source": [
    "## 3. Simulation of the dynamics of the system\n",
    "\n",
    "We can now take equations (12) and (13) together with conditions (16) to write a simple code that can simulate the dinamics of the two blocks. A loop over an index `k` will be used to fill the arrays `V` and `v` with the velocity of each block after the $k$-th collision given by equations (12) and (13). \n",
    "Since the counting is independent of the initial velocity $V_0$ of the large block, the initial conditions will be set to $V_0=1, v_0=0$, which is equivalent to expressing all velocities in units of $|V_0|$.\n",
    "Conditions (16) will be used to break the loop and get the value of `k` defining $k_\\text{last}$ as `k_last = k+1`."
   ]
  },
  {
   "cell_type": "code",
   "execution_count": 57,
   "metadata": {
    "collapsed": true
   },
   "outputs": [],
   "source": [
    "import numpy as np\n",
    "import matplotlib.pyplot as plt\n",
    "%matplotlib inline\n",
    "import seaborn as sns\n",
    "sns.set(rc={'figure.facecolor':'white'})\n",
    "plt.rc('text', usetex=True)\n",
    "plt.rc('font', family='serif')\n",
    "from time import time"
   ]
  },
  {
   "cell_type": "code",
   "execution_count": 12,
   "metadata": {
    "collapsed": true
   },
   "outputs": [],
   "source": [
    "def run_simulation(lambda_=1):\n",
    "    # lambda_: M/m mass ratio\n",
    "    k_max = int(10*np.sqrt(lambda_))  # max value for loop\n",
    "    # create 0-filled arrays\n",
    "    V, v = np.zeros(k_max+1), np.zeros(k_max+1)\n",
    "    # initial conditions\n",
    "    V[0], v[0] = 1, 0\n",
    "    # collide, blocks, collide!\n",
    "    for k in range(0, k_max):\n",
    "        V[k+1] = (lambda_-1)/(lambda_+1) * V[k] - (2)/(lambda_+1) * v[k]         # eq. (12)\n",
    "        v[k+1] = (2*lambda_)/(lambda_+1) * V[k] + (lambda_-1)/(lambda_+1) * v[k] # eq. (13)\n",
    "        # declare k_last conditions\n",
    "        cond_i  = V[k+1] < v[k+1] <= 0  # both move backwards, big block moves faster\n",
    "        cond_ii = 0 < v[k+1] <= -V[k+1]  # big block moves backwards, small block will be reflected one more time\n",
    "        k_last = k+1  # update k_last\n",
    "        if cond_i:\n",
    "            clacks = 2*k_last-1\n",
    "            break\n",
    "        elif cond_ii:\n",
    "            clacks = 2*k_last\n",
    "            break\n",
    "    return clacks, V[:k_last+1], v[:k_last+1]"
   ]
  },
  {
   "cell_type": "code",
   "execution_count": 13,
   "metadata": {
    "collapsed": true
   },
   "outputs": [],
   "source": [
    "def plot_velocities(V, v, lambda0=1, clack_count=3, linemarkers=True):\n",
    "    x = np.arange(0, len(V), 1)\n",
    "    fig, ax1 = plt.subplots()\n",
    "    ax1.set_title('Velocity of each block ($\\lambda={}$)'.format(lambda0), fontsize=16)\n",
    "\n",
    "    colorV = 'g'\n",
    "    colorv = 'b'\n",
    "\n",
    "    ax2 = ax1.twinx()\n",
    "    if linemarkers:\n",
    "        ax1.plot(x, V, 'o-', color=colorV)\n",
    "        ax2.plot(x, v, 'o-', color=colorv)\n",
    "    else:\n",
    "        ax1.plot(x, V, '-', color=colorV)\n",
    "        ax2.plot(x, v, '-', color=colorv)\n",
    "    ax1.grid(False)\n",
    "    ax2.grid(False)\n",
    "    ax1.set_xlabel(r'$k$ (number of collisions)', fontsize=16)\n",
    "    ax1.set_ylabel('velocity large block', fontsize=16, color=colorV)\n",
    "    ax2.set_ylabel('velocity small block', fontsize=16, color=colorv)\n",
    "    Vmax = 1.5\n",
    "    vmax = max(v)*1.1\n",
    "    xmax = max(x)*1.1\n",
    "    ax1.plot([0, xmax], [0, 0], 'k-', lw=1)  # y=0 line\n",
    "    ax1.plot([0, 0], [-2*Vmax, 2*Vmax], 'k-', lw=1)  # x=0 line\n",
    "    ax1.text(xmax*7/9, 1.3, 'clacks: {}'.format(clack_count), fontsize=16)\n",
    "    ax1.xaxis.set_ticks(np.arange(0, len(V), np.max([1, int(1/7*len(V))])))\n",
    "    ax1.set_xlim(-xmax/50, xmax)\n",
    "    ax1.set_ylim(-Vmax, Vmax)\n",
    "    ax2.set_ylim(-vmax, vmax);"
   ]
  },
  {
   "cell_type": "code",
   "execution_count": 6,
   "metadata": {},
   "outputs": [
    {
     "data": {
      "image/png": "[encoded data removed]",
      "text/plain": [
       "<matplotlib.figure.Figure at 0x2161c1fd1d0>"
      ]
     },
     "metadata": {},
     "output_type": "display_data"
    }
   ],
   "source": [
    "lambda_1 = 100**(1-1)\n",
    "clack_cnt_1, V_1, v_1 = run_simulation(lambda_=lambda_1)\n",
    "plot_velocities(V_1, v_1, \n",
    "                lambda0=lambda_1, \n",
    "                clack_count=clack_cnt_1, \n",
    "                linemarkers=True)"
   ]
  },
  {
   "cell_type": "code",
   "execution_count": 7,
   "metadata": {},
   "outputs": [
    {
     "data": {
      "image/png": "[encoded data removed]",
      "text/plain": [
       "<matplotlib.figure.Figure at 0x2161c111908>"
      ]
     },
     "metadata": {},
     "output_type": "display_data"
    }
   ],
   "source": [
    "lambda_2 = 100**(2-1)\n",
    "clack_cnt_2, V_2, v_2 = run_simulation(lambda_=lambda_2)\n",
    "plot_velocities(V_2, v_2, \n",
    "                lambda0=lambda_2, \n",
    "                clack_count=clack_cnt_2, \n",
    "                linemarkers=True)"
   ]
  },
  {
   "cell_type": "code",
   "execution_count": 8,
   "metadata": {},
   "outputs": [
    {
     "data": {
      "image/png": "[encoded data removed]",
      "text/plain": [
       "<matplotlib.figure.Figure at 0x2161b060198>"
      ]
     },
     "metadata": {},
     "output_type": "display_data"
    }
   ],
   "source": [
    "lambda_3 = 100**(3-1)\n",
    "clack_cnt_3, V_3, v_3 = run_simulation(lambda_=lambda_3)\n",
    "plot_velocities(V_3, v_3, \n",
    "                lambda0=lambda_3, \n",
    "                clack_count=clack_cnt_3, \n",
    "                linemarkers=False)"
   ]
  },
  {
   "cell_type": "markdown",
   "metadata": {},
   "source": [
    "\n",
    "These examples show that indeed when ratio between the masses satisfies $\\lambda=100^{d-1}$ the number of clacks equals to the first $d$ digits of $\\pi$. More generally, this can be verified for more cases."
   ]
  },
  {
   "cell_type": "code",
   "execution_count": 14,
   "metadata": {
    "collapsed": true
   },
   "outputs": [],
   "source": [
    "def num_clacks(lambda_=1):\n",
    "    n_clacks, _, _ = run_simulation(lambda_)\n",
    "    return n_clacks"
   ]
  },
  {
   "cell_type": "code",
   "execution_count": 15,
   "metadata": {},
   "outputs": [
    {
     "name": "stdout",
     "output_type": "stream",
     "text": [
      "num_clacks(d=1):  3\n",
      "num_clacks(d=2):  31\n",
      "num_clacks(d=3):  314\n",
      "num_clacks(d=4):  3141\n",
      "num_clacks(d=5):  31415\n",
      "num_clacks(d=6):  314159\n",
      "num_clacks(d=7):  3141592\n",
      "\n",
      "\t      π: 3.1415927\n",
      "--------------------------\n",
      "time: 7.2 sec\n"
     ]
    }
   ],
   "source": [
    "t0 = time()\n",
    "for digits in range(1, 8):  # more digits can take long\n",
    "    lambda0 = 100**(digits-1)\n",
    "    n_clacks = num_clacks(lambda_=lambda0)\n",
    "    print(f'num_clacks(d={digits}):  {n_clacks}')\n",
    "print(f'\\n\\t      π: {np.pi:.{digits}f}')\n",
    "print('-'*26 + '\\ntime: {:.1f} sec'.format(time()-t0))"
   ]
  },
  {
   "cell_type": "code",
   "execution_count": null,
   "metadata": {
    "collapsed": true
   },
   "outputs": [],
   "source": []
  },
  {
   "cell_type": "markdown",
   "metadata": {},
   "source": [
    "## 4. Counting clacks and the digits of $\\pi$"
   ]
  },
  {
   "cell_type": "markdown",
   "metadata": {},
   "source": [
    "### 4.1 Analytical  treatment\n",
    "The plots of the velocity of each block clearly show that they can be represented by trigonometric functions of the number of collisions $k$; this feature arises from the conservation of energy (7). Since this equation is valid for all collisions we can write\n",
    "\n",
    "\\begin{align*}\n",
    "\\lambda V^2_k + v^2_k = \\lambda V^2_{0} + v^2_{0} = \\lambda V^2_{0} ,\\tag*{(17)}\n",
    "\\end{align*}\n",
    "\n",
    "where the right-hand side is a constant given in terms of the initial conditions. \n",
    "This is the equation of an ellipse and it can be easily transformed to the equation of a circle by scalling $V_k\\to\\tilde{V}_k=\\sqrt{\\lambda}V_k$, which allows writing conservation of energy in the form\n",
    "\n",
    "\\begin{align*}\n",
    "\\tilde{V}^2_k + v^2_k = \\tilde{V}^2_{0} ,\\tag*{(18)}\n",
    "\\end{align*}\n",
    "\n",
    "corresponding to a circle of radius $\\tilde{V}_0$ in the $(\\tilde{V}_k,v_k)$ space. The two variables $(\\tilde{V}_k, v_k)$ can be parametrized in terms of trigonometric functions\n",
    "\n",
    "\\begin{align*}\n",
    "\\tilde{V}_k &= \\tilde{V}_0\\cos\\theta_k &\\to V_k &= V_0\\cos\\theta_k ,\\tag*{(19)}\\\\\n",
    "v_k &= \\tilde{V}_0\\sin\\theta_k&\\to v_k &= \\sqrt{\\lambda}V_0\\sin\\theta_k ,\\tag*{(20)}\\\\\n",
    "\\end{align*}\n",
    "\n",
    "where we have transformed back to the original variables. The angle $\\theta_k$ is some compact parameter and from the plots in the previous section we can write\n",
    "\n",
    "\\begin{align*}\n",
    "\\theta_k = \\frac{\\pi k}{k_{\\{v_k=0\\}}} ,\\tag*{(21)}\n",
    "\\end{align*}\n",
    "\n",
    "where $k=k_{\\{v_k=0\\}}$ is defined as the point where the small block would come to rest; equivalently, this also corresponds to the point where the large block would move away from the wall with the same speed as it approached the wall initially\n",
    "\n",
    "\\begin{align*}\n",
    "v_{k_{\\{v_k=0\\}}} &= \\;\\;0, \\tag*{(22)} \\\\\n",
    "V_{k_{\\{v_k=0\\}}} &= -V_0. \\tag*{(23)}\n",
    "\\end{align*}\n",
    "\n",
    "\n",
    "Notice that $k_{\\{v_k=0\\}}$ is not necessariy equal to $k_\\text{last}$. \n",
    "In fact, $k_{v_k=0}$ is almost never an integer.\n",
    "The example in Sec. 2.2 shows that for $\\lambda=1$ the process ends with the small block at rest,\n",
    "in this particular case we find $k_{v_k=0}=k_\\text{last}$."
   ]
  },
  {
   "cell_type": "markdown",
   "metadata": {},
   "source": [
    "Let us now use the parametrization (21) in the recursive formula for velocities between collisions (12):\n",
    "\n",
    "\\begin{align}\n",
    "V_{k+1} &= \\left(\\frac{\\lambda-1}{\\lambda+1}\\right) V_k - \\left(\\frac{2}{\\lambda+1}\\right) v_k \\\\\n",
    "V_0\\cos\\theta_{k+1} &= \\left(\\frac{\\lambda-1}{\\lambda+1}\\right) V_0\\cos\\theta_k - \\left(\\frac{2}{\\lambda+1}\\right) \\sqrt{\\lambda}V_0\\sin\\theta_k \\\\\n",
    "\\cos\\left(\\theta_{k}+\\frac{\\pi}{k_{\\{v_k=0\\}}}\\right) &= \\left(\\frac{\\lambda-1}{\\lambda+1}\\right) \\cos\\theta_k - \\left(\\frac{2\\sqrt{\\lambda}}{\\lambda+1}\\right) \\sin\\theta_k .\\\\\n",
    "\\end{align}\n",
    "\n",
    "Now we can expand the left-hand side using the cosine of the sum of two angles\n",
    "\n",
    "\\begin{align}\n",
    "\\cos\\theta_{k}\\,\\cos\\left(\\frac{\\pi}{k_{\\{v_k=0\\}}}\\right) - \\sin\\theta_{k}\\,\\sin\\left(\\frac{\\pi}{k_{\\{v_k=0\\}}}\\right) \n",
    "&= \\left(\\frac{\\lambda-1}{\\lambda+1}\\right) \\cos\\theta_k - \\left(\\frac{2\\sqrt{\\lambda}}{\\lambda+1}\\right) \\sin\\theta_k \n",
    "\\tag*{(22)}\n",
    "\\end{align}\n",
    "\n",
    "and identify the coefficients of each trigonometric function in the form\n",
    "\n",
    "\\begin{align}\n",
    "\\cos\\left(\\frac{\\pi}{k_{\\{v_k=0\\}}}\\right) &= \\frac{\\lambda-1}{\\lambda+1}, \\tag*{(23)}\\\\\n",
    "\\sin\\left(\\frac{\\pi}{k_{\\{v_k=0\\}}}\\right) &= \\frac{2\\sqrt{\\lambda}}{\\lambda+1}.\n",
    "\\tag*{(24)}\\\\\n",
    "\\end{align}\n",
    "\n",
    "The same result is obtained if eq. (13) is used instead.\n",
    "By taking the ratio between these last two expressions we find\n",
    "\n",
    "\\begin{align}\n",
    "k_{\\{v_k=0\\}} = \\pi \\, \\arctan\\left(\\dfrac{2\\sqrt{\\lambda}}{\\lambda-1}\\right)^{-1}. \n",
    "\\tag*{(25)}\\\\\n",
    "\\end{align}\n",
    "\n",
    "This result shows $k_{\\{v_k=0\\}}$ as a continuos quantity. Its relation to the discrete value of the total number of collisions $N_\\text{collisions} = k_\\text{last}$ arises as a direct consequence of the conditions for the end of the process discussed in Sec. 2.3 and it is explored further in the next section."
   ]
  },
  {
   "cell_type": "markdown",
   "metadata": {},
   "source": [
    "### 4.2 The end of the process and the final-state conditions\n",
    "\n",
    "In Sec. 2.3 we found that there are two possibilities for the final state of the system, denoted conditions *i* and *ii* in eq. (16).\n",
    "Dividing by the final velocity of the large block $V_{k_\\text{last}}<0$ these conditions can be written as\n",
    "\n",
    "\\begin{align}\n",
    "\\text{(cond. $i$)}  && 0 &\\le \\dfrac{v_{k_\\text{last}}}{V_{k_\\text{last}}} < 1, \\\\\n",
    "\\text{(cond. $ii$)} && -1 &< \\dfrac{v_{k_\\text{last}}}{V_{k_\\text{last}}} < 0.\n",
    "\\tag*{(26)}\n",
    "\\end{align}\n",
    "\n",
    "This result shows that these process-termination conditions are equivalent to determining the sign of the ratio $v_{k_\\text{last}}/V_{k_\\text{last}}$.\n",
    "From the analysis in Sec. 2.3 we know that when the process ends $V_{k_\\text{last}}<0$; therefore, the conditions (26) can also be written as\n",
    "\n",
    "\\begin{align}\n",
    "\\text{(cond. $i$)}  && v_{k_\\text{last}} \\le 0, \\\\\n",
    "\\text{(cond. $ii$)} && v_{k_\\text{last}} > 0.\n",
    "\\tag*{(27)}\n",
    "\\end{align}\n",
    "\n",
    "We can use equations (19), (20), and (21) to write cond. *ii* as\n",
    "\n",
    "\\begin{align}\n",
    "v_{k_\\text{last}} = V_0 \\sqrt\\lambda \\sin\\left(\\frac{k_\\text{last} \\pi}{k_{\\{v_k=0\\}}}\\right) > 0.\n",
    "\\tag*{(28)}\n",
    "\\end{align}\n",
    "\n",
    "Since $V_0$ and $\\sqrt\\lambda$ are positive quantities, we can express eqn. (28) as \n",
    "\n",
    "\\begin{align}\n",
    "\\text{(cond. $i$)}  && k_\\text{last} \\ge k_{\\{v_k=0\\}}, \\\\\n",
    "\\text{(cond. $ii$)} && k_\\text{last} < k_{\\{v_k=0\\}}.\n",
    "\\tag*{(29)}\n",
    "\\end{align}"
   ]
  },
  {
   "cell_type": "markdown",
   "metadata": {},
   "source": [
    "We now notice a key feature of these two quantities: $k_\\text{last}$ is a integer, whereas $k_{\\{v_k=0\\}}$ is a real number. \n",
    "We can find one in terms of the other by rounding the value of $k_{\\{v_k=0\\}}$ to its nearest integer so we can write\n",
    "\n",
    "\\begin{align}\n",
    "k_\\text{last} = \\left[ k_{\\{v_k=0\\}} \\right] \n",
    "= \\left[ \\pi \\, \\arctan\\left(\\dfrac{2\\sqrt{\\lambda}}{\\lambda-1}\\right)^{-1}\\right],\n",
    "\\tag*{(30)}\n",
    "\\end{align}\n",
    "\n",
    "where the brackets denote $[x]=$ *round the decimals of $x$ to the nearest integer.*\n",
    "Here we have finally found a way to relate the number of clacks to the mass-ratio parameter $\\lambda$.\n",
    "Notice that the magnitude of the initial velocity of the large block $|V_0|$ is irrelevant.\n",
    "The result in eq. (30) also serves to distinguish between conditions *i* and *ii* simply by the way the rounding is performed: \n",
    "- if the number in brackets is rounded up ($k_\\text{last} > k_{\\{v_k=0\\}}$), then condition *i* is valid\n",
    "- if the number in brackets is rounded down ($k_\\text{last} < k_{\\{v_k=0\\}}$), then condition *ii* is valid\n",
    "- if the number in brackets is an integer ($k_\\text{last} = k_{\\{v_k=0\\}}$), then condition *i* is valid\n",
    "\n",
    "Using these results and eq. (16) we write the general form for the total number of clacks as\n",
    "\n",
    "\\begin{align}\n",
    "N_\\text{clacks}(\\lambda) = 2\\left[ \\pi \\, \\arctan\\left(\\dfrac{2\\sqrt{\\lambda}}{\\lambda-1}\\right)^{-1}\\right] + \\delta N,\n",
    "\\qquad\\qquad\n",
    "\\delta N = \\left\\{\\begin{array}{lll} \n",
    "-1 & \\text{if}\\; [\\cdots] \\text{ rounds the value down}\\\\\n",
    "\\;\\;0 & \\text{otherwise}\n",
    "\\end{array}\\right.. \\tag*{(31)}\n",
    "\\end{align}\n",
    "\n",
    "This the more general result for the numbers of clacks between the colliding blocks, including the clacks from reflections from the wall. Some particular examples are explicitly computed in the next section and a general formula is derived in Sec. 4.4."
   ]
  },
  {
   "cell_type": "markdown",
   "metadata": {},
   "source": [
    "### 4.3 Particular examples\n",
    "\n",
    "Let us try the result (31) for a few cases in which $\\lambda=100^{d-1}$ to verify that $d$ digits of are generated.\n",
    "\n",
    "#### Case $d=1 \\;(\\lambda = 1)$\n",
    "This case is particular because it can be solved exactly, as shown in Sec. 2.2. \n",
    "Moreover, it leads to an integer value for k_{\\{v_k=0\\}}.\n",
    "Using the result (31) we have\n",
    "\n",
    "\\begin{align}\n",
    "N_\\text{clacks}(100^0) &= 2\\left[\\pi \\lim_{\\lambda\\to1} \\arctan\\left(\\dfrac{2\\sqrt{\\lambda}}{\\lambda-1}\\right)^{-1}\\right] + \\delta N \n",
    "= 2\\left[\\pi \\lim_{x\\to\\infty} \\arctan(x)^{-1} \\right] + \\delta N \\\\\n",
    "&= 2\\left[\\pi \\,\\left(\\frac{\\pi}{2}\\right)^{-1} \\right] + \\delta N\n",
    "= 2\\big[2 \\big] + \\delta N \\qquad\\qquad\\qquad\\qquad\\leftarrow\\text{[...] does not round the value down: } \\delta N=-1 \\\\\n",
    "&= 2(2) - 1 = 4 - 1 = 3\n",
    ". \\tag*{(32)}\n",
    "\\end{align}\n",
    "\n",
    "#### Case $d=2 \\;(\\lambda = 100)$\n",
    "\\begin{align}\n",
    "N_\\text{clacks}(100^1) &= 2\\left[\\pi \\arctan\\left(\\dfrac{20}{99}\\right)^{-1} \\right] + \\delta N \n",
    "= 2\\big[15.77\\big] + \\delta N \\qquad\\qquad\\leftarrow\\text{[...] does not round the value down: } \\delta N=-1 \\\\\n",
    "&= 2(16) - 1 = 31\n",
    ". \\tag*{(33)}\n",
    "\\end{align}\n",
    "\n",
    "#### Case $d=3 \\;(\\lambda = 100^2)$\n",
    "\\begin{align}\n",
    "N_\\text{clacks}(100^2) &= 2\\left[\\pi \\arctan\\left(\\dfrac{2\\times10^2}{10^4-1}\\right)^{-1} \\right] + \\delta N \n",
    "= 2\\big[157.08\\big] + \\delta N \\qquad\\qquad\\leftarrow\\text{[...] rounds the value down: } \\delta N=0 \\\\\n",
    "&= 2(157) = 314\n",
    ". \\tag*{(34)}\n",
    "\\end{align}\n",
    "\n",
    "#### Case $d=4 \\;(\\lambda = 100^3)$\n",
    "\\begin{align}\n",
    "N_\\text{clacks}(100^3) &= 2\\left[\\pi \\arctan\\left(\\dfrac{2\\times10^3}{10^6-1}\\right)^{-1} \\right] + \\delta N \n",
    "= 2\\big[1570.80\\big] + \\delta N \\qquad\\leftarrow\\text{[...] does not round the value down: } \\delta N=-1 \\\\\n",
    "&= 2(1571) - 1 = 3141\n",
    ". \\tag*{(35)}\n",
    "\\end{align}\n",
    "\n",
    "#### Case $d=5 \\;(\\lambda = 100^4)$\n",
    "\\begin{align}\n",
    "N_\\text{clacks}(100^4) &= 2\\left[\\pi \\arctan\\left(\\dfrac{2\\times10^4}{10^8-1}\\right)^{-1} \\right] + \\delta N \n",
    "= 2\\big[15707.96\\big] + \\delta N \\qquad\\leftarrow\\text{[...] does not round the value down: } \\delta N=-1 \\\\\n",
    "&= 2(15708) - 1 = 31415\n",
    ". \\tag*{(36)}\n",
    "\\end{align}\n",
    "\n",
    "#### Case $d=6 \\;(\\lambda = 100^5)$\n",
    "\\begin{align}\n",
    "N_\\text{clacks}(100^5) &= 2\\left[\\pi \\arctan\\left(\\dfrac{2\\times10^5}{10^{10}-1}\\right)^{-1} \\right] + \\delta N \n",
    "= 2\\big[157079.63\\big] + \\delta N \\qquad\\leftarrow\\text{[...] does not round the value down: } \\delta N=-1 \\\\\n",
    "&= 2(157080) - 1 = 314159\n",
    ". \\tag*{(37)}\n",
    "\\end{align}\n",
    "\n",
    "#### Case $d=7 \\;(\\lambda = 100^6)$\n",
    "\\begin{align}\n",
    "N_\\text{clacks}(100^6) &= 2\\left[\\pi \\arctan\\left(\\dfrac{2\\times10^6}{10^{12}-1}\\right)^{-1} \\right] + \\delta N \n",
    "= 2\\big[1570796.33\\big] + \\delta N \\qquad\\qquad\\leftarrow\\text{[...] rounds the value down: } \\delta N=0 \\\\\n",
    "&= 2(1570796) - 1 = 3141592\n",
    ". \\tag*{(38)}\n",
    "\\end{align}\n",
    "\n",
    "All the worked examples clearly show that eq. (31) properly gives the expected results based on the claim in Sec. 1 and the numerical results of the simulations in Sec. 3.\n",
    "For large values of $\\lambda$ the generation of digits of $\\pi$ can be written in a closed form, which is presented in the following section."
   ]
  },
  {
   "cell_type": "markdown",
   "metadata": {},
   "source": [
    "### 4.4 Exact analytical expression\n",
    "\n",
    "The results in Sec. 4.3 clearly show that eq. (31) properly generates the total number of clacks in agreement with the claim in Sec. 1 and the simulations in Sec. 3.\n",
    "Now we proceed to generalize the result for arbitrary number $d>1$ of digits of $\\pi$, which is equivalent to $\\lambda=100^{d-1}\\gg1$.\n",
    "Recall that the special case $d=1$ was proven to correctly produce the first digit of $\\pi$ in the previous section.\n",
    "Let us consider the Taylor series of the function of $\\lambda$ in eq. (31) using the small parameter $1/\\lambda \\ll 1$:\n",
    "\n",
    "\\begin{align}\n",
    "N_\\text{clacks}(\\lambda) \\approx 2\\left[ \\frac{\\pi \\sqrt\\lambda}{2} \\left( 1+ \\frac{1/\\lambda}{3} + \\mathcal{O}\\big((1/\\lambda)^2\\big) \\right)\\right] + \\delta N.\n",
    "\\tag*{(39)}\n",
    "\\end{align}\n",
    "\n",
    "The claim is that only the first term is relevant, so let us focus on the second term: since we want to consider $\\lambda=100^{d-1}$ we can write the second term in the sum as\n",
    "\n",
    "\\begin{align}\n",
    "\\frac{1}{3 \\lambda} = \\frac{0.33}{100^{d-1}} = 0.\\underbrace{00\\cdots00}_{2d}33.\n",
    "\\tag*{(40)}\n",
    "\\end{align}\n",
    "\n",
    "Since $d>1$ this correction will take a value of at most a fraction of a thousand; therefore, it cannot contribute to changes in the rounding of the overall factor $\\pi\\sqrt\\lambda/2$.\n",
    "In the sum the terms of higher order in $1/\\lambda$ will contribute even less.\n",
    "For this reason, even though we will keep only the first term series (39), the result after rounding this term is exact.\n",
    "\n",
    "We can now write\n",
    "\n",
    "\\begin{align}\n",
    "N_\\text{clacks}(\\lambda) &= 2\\left[ \\frac12 \\pi \\sqrt\\lambda \\right] + \\delta N.\n",
    "\\tag*{(41)}\n",
    "\\end{align}\n",
    "\n",
    "In order to analytically evaluate the rounding $[\\ldots]$ let us define\n",
    "\n",
    "\\begin{align}\n",
    "\\Omega = \\pi \\sqrt\\lambda,\n",
    "\\tag*{(42)}\n",
    "\\end{align}\n",
    "\n",
    "so that eq. (41) can be written simply as\n",
    "\n",
    "\\begin{align}\n",
    "N_\\text{clacks}(\\lambda) &= 2\\left[ \\frac{\\Omega}{2}\\right] + \\delta N.\n",
    "\\tag*{(43)}\n",
    "\\end{align}\n",
    "\n",
    "In general, the numerical value of $\\Omega$ can be decomposed into an integer and a decimal part\n",
    "\n",
    "\\begin{align}\n",
    "\\Omega = \\text{int}(\\Omega) + \\text{dec}(\\Omega),\n",
    "\\tag*{(44)}\n",
    "\\end{align}\n",
    "\n",
    "where the decimal part satisfies\n",
    "\\begin{align}\n",
    "0 \\le \\text{dec}(\\Omega) < 1.\n",
    "\\tag*{(45)}\n",
    "\\end{align}\n",
    "\n",
    "Since we need to determine $\\omega=\\Omega/2$ in eq. (43), we have consider the cases for $\\text{int}(\\Omega)$ being even or odd separately.\n",
    "If $\\text{int}(\\Omega)$ is even:\n",
    "\n",
    "\\begin{align}\n",
    "\\omega = \\frac12 \\Omega = \\frac12 \\text{int}(\\Omega) + \\frac12 \\text{dec}(\\Omega)\n",
    "= \\text{int}(\\omega) + \\text{dec}(\\omega)\n",
    "\\tag*{(46)}\n",
    "\\end{align}\n",
    "\n",
    "where\n",
    "\n",
    "\\begin{align}\n",
    "\\text{int}(\\omega) &= \\frac12 \\text{int}(\\Omega) \\\\\n",
    "\\text{dec}(\\omega) &= \\frac12 \\text{dec}(\\Omega)\n",
    "\\tag*{(47)}\n",
    "\\end{align}\n",
    "\n",
    "We can now determine\n",
    "\n",
    "\\begin{align}\n",
    "\\left[ \\frac{\\Omega}{2}\\right] &= \\big[\\omega\\big] = \\big[\\text{int}(\\omega) + \\text{dec}(\\omega)\\big] \\\\\n",
    "& = \\left\\{\\begin{array}{lll} \n",
    "\\text{int}(\\omega) & \\text{if}\\; \\text{dec}(\\omega) < 1/2 & (\\omega \\text{ is rounded down} \\to\\delta N=0)\\\\\n",
    "\\text{int}(\\omega)+1 & \\text{if}\\; \\text{dec}(\\omega) \\ge 1/2 & (\\omega \\text{ is not rounded down} \\to\\delta N=-1)\n",
    "\\end{array}\\right.\n",
    "\\tag*{(48)}\n",
    "\\end{align}\n",
    "\n",
    "Using eq. (48) we find that the second condition implies\n",
    "\n",
    "\\begin{align}\n",
    "\\text{dec}(\\omega) =\\frac12 \\text{dec}(\\Omega) \\ge\\frac12 \\to \\text{dec}(\\Omega) \\ge 1\n",
    "\\tag*{(49)}\n",
    "\\end{align}\n",
    "\n",
    "which cannot be satisfied because $\\text{dec}(\\Omega)$ is the decimal part of $\\Omega$. \n",
    "Therefore, eqn. (49) reduces to\n",
    "\n",
    "\\begin{align}\n",
    "\\left[ \\frac{\\Omega}{2}\\right] &= \\text{int}(\\omega) = \\frac12 \\text{int}(\\Omega) \\quad(\\text{with }\\delta N=0).\n",
    "\\tag*{(50)}\n",
    "\\end{align}"
   ]
  },
  {
   "cell_type": "markdown",
   "metadata": {},
   "source": [
    "We can now follow the same procedure for the case in which $\\text{int}(\\Omega)$ is odd:\n",
    "\n",
    "\\begin{align}\n",
    "\\omega = \\frac12 \\Omega = \\frac12 \\text{int}(\\Omega) + \\frac12 \\text{dec}(\\Omega)\n",
    "= \\text{int}(\\omega) + \\text{dec}(\\omega)\n",
    "\\tag*{(51)}\n",
    "\\end{align}\n",
    "\n",
    "where now\n",
    "\n",
    "\\begin{align}\n",
    "\\text{int}(\\omega) &= \\text{int}\\left(\\frac12 \\text{int}(\\Omega)\\right) \\\\\n",
    "\\text{dec}(\\omega) &= \\frac12 \\text{dec}(\\Omega) + \\frac12\n",
    "\\tag*{(52)}\n",
    "\\end{align}\n",
    "\n",
    "We can now determine\n",
    "\n",
    "\\begin{align}\n",
    "\\left[ \\frac{\\Omega}{2}\\right] &= \\big[\\omega\\big] = \\big[\\text{int}(\\omega) + \\text{dec}(\\omega)\\big] \\\\\n",
    "& = \\left\\{\\begin{array}{lll} \n",
    "\\text{int}(\\omega) & \\text{if}\\; \\text{dec}(\\omega) < 1/2 & (\\omega \\text{ is rounded down} \\to\\delta N=0)\\\\\n",
    "\\text{int}(\\omega)+1 & \\text{if}\\; \\text{dec}(\\omega) \\ge 1/2 & (\\omega \\text{ is not rounded down} \\to\\delta N=-1)\n",
    "\\end{array}\\right.\n",
    "\\tag*{(53)}\n",
    "\\end{align}\n",
    "\n",
    "just as for the even case.\n",
    "However, now using eq. (52) we find that the first condition implies\n",
    "\n",
    "\\begin{align}\n",
    "\\text{dec}(\\omega) = \\frac12 \\text{dec}(\\Omega) + \\frac12 < \\frac12 \\to \\text{dec}(\\Omega) < 0\n",
    "\\tag*{(54)}\n",
    "\\end{align}\n",
    "\n",
    "which cannot be satisfied because $\\text{dec}(\\Omega)$ is the decimal part of $\\Omega$. \n",
    "Therefore, eqn. (53) reduces to\n",
    "\n",
    "\\begin{align}\n",
    "\\left[ \\frac{\\Omega}{2}\\right] &= \\text{int}(\\omega)+1 \n",
    "= \\text{int}\\left(\\frac12 \\text{int}(\\Omega)\\right) +1 \\quad(\\text{with }\\delta N=-1) \\\\\n",
    "&= \\frac12 \\text{int}\\left(\\text{int}(\\Omega)-1\\right) +1\n",
    "= \\frac12 \\text{int}(\\Omega) + \\frac12 \\quad(\\text{with }\\delta N=-1)\n",
    "\\tag*{(55)}\n",
    "\\end{align}\n",
    "\n",
    "where $\\text{int}\\big(\\frac{x}{2}\\big) = \\frac12 \\text{int}(x-1) = \\frac12 \\text{int}(x)-\\frac12$ has been used.\n",
    "We can now replace results (50) and (55) into eq. (43):\n",
    "\n",
    "\\begin{align}\n",
    "N_\\text{clacks}(\\lambda\\gg1) &\\approx 2\\left[ \\frac{\\Omega}{2}\\right] + \\delta N\n",
    "= \\left\\{\\begin{array}{lll} \n",
    "\\text{int}(\\Omega) & \\text{if}\\; \\text{int}(\\Omega) \\text{ is even } (\\delta N=0)\\\\\n",
    "\\big(\\text{int}(\\Omega)+1\\big)-1 & \\text{if}\\; \\text{int}(\\Omega) \\text{ is odd } (\\delta N=-1)\n",
    "\\end{array}\\right..\n",
    "\\tag*{(56)}\n",
    "\\end{align}\n",
    "\n",
    "This result shows that independent on whether $\\text{int}(\\Omega)$ is even or odd, the general expression for the total number of clacks is given by\n",
    "\n",
    "\\begin{align}\n",
    "N_\\text{clacks}(\\lambda\\gg1) &= \\text{int}(\\Omega) = \\text{int}\\left(\\pi \\sqrt\\lambda\\right).\n",
    "\\tag*{(57)}\n",
    "\\end{align}\n",
    "\n",
    "We can now use the general form for the mass-ratio in the claim $\\lambda=100^{d-1}$, from where we find that the total number of clacks is\n",
    "\n",
    "\\begin{align}\n",
    "N_\\text{clacks}(\\lambda\\gg1) = \\text{int}\\left(\\pi 10^{d-1}\\right),\n",
    "\\tag*{(58)}\n",
    "\\end{align}\n",
    "\n",
    "which corresponds to a $d$-digit integer whose digits are given by the first $d$ digits of $\\pi$."
   ]
  },
  {
   "cell_type": "markdown",
   "metadata": {},
   "source": [
    "## 5. Conclusion\n",
    "\n",
    "Starting from a very simple problem a beautiful relation was found between the number of clacks between two blocks and a wall with the digits of $\\pi$.\n",
    "Solving the system equations describing conservation of energy and conservation of momentum led to a set of recursive relation for the velocity of each block after each collision. \n",
    "Care was need to correctly write the velocity of the small block that reverse its sign between collision due to its consequent reflection from the wall.\n",
    "These recursive relations were used to write a simple simulation that revealed the oscillatory velocities in terms of the number of collisions.\n",
    "By carefully deriving and impossing the conditions for the end of the process, the simulations verified the claim of the correspondence of the total number of clacks with the digits of $\\pi$ when the mass-ratio of the two blocks satisfy $\\lambda=M/m=100^{d-1}$.\n",
    "The conditions and the recurvise relations were then used to analytically derive a general formula relating the number of clacks and the digits of $\\pi$.\n",
    "The derived formula was shown to work correctly for several cases and later proven its validity for other larger values.\n",
    "Interestingly, the derivation presented here deviates substantially from the original work by Galperin [3], who instead of recursively solving the equations of motion used an clever optical analog (after I found eq. (58) I finally had a look at his paper!)."
   ]
  },
  {
   "cell_type": "markdown",
   "metadata": {},
   "source": [
    "## 6. References\n",
    "\n",
    "[1] Sanderson, G., [3Blue1Brown]. (2019, January). *The most unexpected answer to a counting puzzle*. Retrieved from [youtube.com/watch?v=HEfHFsfGXjs](https://www.youtube.com/watch?v=HEfHFsfGXjs).\n",
    "\n",
    "[2] Macmillan Dictionary (2019). *clack - definition and synonyms*. Retrieved from [www.macmillandictionary.com/dictionary/british/clack_2#clack_2__1](https://www.macmillandictionary.com/dictionary/british/clack_2#clack_2__1).\n",
    "\n",
    "[3] Galperin, G., *Playing pool with π (the number π from a billiard point of view)*, Regular and Chaotic Dynamics, pp. 375-394, 2003 [[PDF](https://www.maths.tcd.ie/~lebed/Galperin.%20Playing%20pool%20with%20pi.pdf)]."
   ]
  },
  {
   "cell_type": "code",
   "execution_count": 58,
   "metadata": {},
   "outputs": [
    {
     "data": {
      "text/plain": [
       "(3.141592653589793, 1.0471975511965976)"
      ]
     },
     "execution_count": 58,
     "metadata": {},
     "output_type": "execute_result"
    }
   ],
   "source": [
    "np.pi, np.pi/3"
   ]
  },
  {
   "cell_type": "code",
   "execution_count": null,
   "metadata": {
    "collapsed": true
   },
   "outputs": [],
   "source": []
  },
  {
   "cell_type": "code",
   "execution_count": null,
   "metadata": {
    "collapsed": true
   },
   "outputs": [],
   "source": []
  },
  {
   "cell_type": "code",
   "execution_count": null,
   "metadata": {
    "collapsed": true
   },
   "outputs": [],
   "source": []
  },
  {
   "cell_type": "code",
   "execution_count": null,
   "metadata": {
    "collapsed": true
   },
   "outputs": [],
   "source": []
  },
  {
   "cell_type": "code",
   "execution_count": null,
   "metadata": {
    "collapsed": true
   },
   "outputs": [],
   "source": []
  },
  {
   "cell_type": "code",
   "execution_count": null,
   "metadata": {
    "collapsed": true
   },
   "outputs": [],
   "source": []
  },
  {
   "cell_type": "code",
   "execution_count": null,
   "metadata": {
    "collapsed": true
   },
   "outputs": [],
   "source": []
  },
  {
   "cell_type": "code",
   "execution_count": null,
   "metadata": {
    "collapsed": true
   },
   "outputs": [],
   "source": []
  },
  {
   "cell_type": "code",
   "execution_count": 49,
   "metadata": {},
   "outputs": [],
   "source": []
  }
 ],
 "metadata": {
  "kernelspec": {
   "display_name": "Python 3",
   "language": "python",
   "name": "python3"
  },
  "language_info": {
   "codemirror_mode": {
    "name": "ipython",
    "version": 3
   },
   "file_extension": ".py",
   "mimetype": "text/x-python",
   "name": "python",
   "nbconvert_exporter": "python",
   "pygments_lexer": "ipython3",
   "version": "3.6.1"
  }
 },
 "nbformat": 4,
 "nbformat_minor": 2
}
